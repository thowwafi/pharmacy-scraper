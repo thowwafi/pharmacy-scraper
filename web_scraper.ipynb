{
 "metadata": {
  "language_info": {
   "codemirror_mode": {
    "name": "ipython",
    "version": 3
   },
   "file_extension": ".py",
   "mimetype": "text/x-python",
   "name": "python",
   "nbconvert_exporter": "python",
   "pygments_lexer": "ipython3",
   "version": "3.9.2"
  },
  "orig_nbformat": 4,
  "kernelspec": {
   "name": "python3",
   "display_name": "Python 3.9.2  ('venv': venv)"
  },
  "interpreter": {
   "hash": "2e57fa0d3cb6e3e65fdaa7ed14edd8540cc6d4233083f1e2a7d59e2b0afb17b0"
  }
 },
 "nbformat": 4,
 "nbformat_minor": 2,
 "cells": [
  {
   "cell_type": "code",
   "execution_count": 20,
   "metadata": {},
   "outputs": [],
   "source": [
    "import pandas as pd\n",
    "import requests\n",
    "from bs4 import BeautifulSoup"
   ]
  },
  {
   "cell_type": "code",
   "execution_count": 21,
   "metadata": {},
   "outputs": [
    {
     "output_type": "execute_result",
     "data": {
      "text/plain": [
       "                            name               street    zip  \\\n",
       "0              4 Linden-Apotheke    Hachmeisterstr. 2  31139   \n",
       "1          5K Universum Apotheke  Theodor-Stern-Kai 7  60596   \n",
       "2  5K-Apotheke im Lidl Niederrad    Goldsteinstr. 157  60528   \n",
       "3               7 Berge-Apotheke         Sedanstr. 18  31061   \n",
       "4                Aartal-Apotheke       Friedhofstr. 4  35745   \n",
       "\n",
       "                city  \n",
       "0         Hildesheim  \n",
       "1  Frankfurt am Main  \n",
       "2  Frankfurt am Main  \n",
       "3     Alfeld (Leine)  \n",
       "4            Herborn  "
      ],
      "text/html": "<div>\n<style scoped>\n    .dataframe tbody tr th:only-of-type {\n        vertical-align: middle;\n    }\n\n    .dataframe tbody tr th {\n        vertical-align: top;\n    }\n\n    .dataframe thead th {\n        text-align: right;\n    }\n</style>\n<table border=\"1\" class=\"dataframe\">\n  <thead>\n    <tr style=\"text-align: right;\">\n      <th></th>\n      <th>name</th>\n      <th>street</th>\n      <th>zip</th>\n      <th>city</th>\n    </tr>\n  </thead>\n  <tbody>\n    <tr>\n      <th>0</th>\n      <td>4 Linden-Apotheke</td>\n      <td>Hachmeisterstr. 2</td>\n      <td>31139</td>\n      <td>Hildesheim</td>\n    </tr>\n    <tr>\n      <th>1</th>\n      <td>5K Universum Apotheke</td>\n      <td>Theodor-Stern-Kai 7</td>\n      <td>60596</td>\n      <td>Frankfurt am Main</td>\n    </tr>\n    <tr>\n      <th>2</th>\n      <td>5K-Apotheke im Lidl Niederrad</td>\n      <td>Goldsteinstr. 157</td>\n      <td>60528</td>\n      <td>Frankfurt am Main</td>\n    </tr>\n    <tr>\n      <th>3</th>\n      <td>7 Berge-Apotheke</td>\n      <td>Sedanstr. 18</td>\n      <td>31061</td>\n      <td>Alfeld (Leine)</td>\n    </tr>\n    <tr>\n      <th>4</th>\n      <td>Aartal-Apotheke</td>\n      <td>Friedhofstr. 4</td>\n      <td>35745</td>\n      <td>Herborn</td>\n    </tr>\n  </tbody>\n</table>\n</div>"
     },
     "metadata": {},
     "execution_count": 21
    }
   ],
   "source": [
    "df = pd.read_csv(\"./data/client_list.csv\", sep=\";\", encoding='cp1252')\n",
    "df.head()"
   ]
  },
  {
   "cell_type": "code",
   "execution_count": 24,
   "metadata": {},
   "outputs": [],
   "source": [
    "\n",
    "# desktop user-agent\n",
    "USER_AGENT = \"Mozilla/5.0 (Macintosh; Intel Mac OS X 10.14; rv:65.0) Gecko/20100101 Firefox/65.0\"\n",
    "# mobile user-agent\n",
    "MOBILE_USER_AGENT = \"Mozilla/5.0 (Linux; Android 7.0; SM-G930V Build/NRD90M) AppleWebKit/537.36 (KHTML, like Gecko) Chrome/59.0.3071.125 Mobile Safari/537.36\"\n",
    "\n",
    "def google_search(query):\n",
    "    query = \"hackernoon How To Scrape Google With Python\"\n",
    "    query = query.replace(' ', '+')\n",
    "    URL = f\"https://google.com/search?q={query}\"\n",
    "\n",
    "    headers = {\"user-agent\": USER_AGENT}\n",
    "    resp = requests.get(URL, headers=headers)\n",
    "\n",
    "    if resp.status_code == 200:\n",
    "        soup = BeautifulSoup(resp.content, \"html.parser\")\n",
    "        results = []\n",
    "        for g in soup.find_all('div', class_='r'):\n",
    "            anchors = g.find_all('a')\n",
    "            if anchors:\n",
    "                link = anchors[0]['href']\n",
    "                title = g.find('h3').text\n",
    "                item = {\n",
    "                    \"title\": title,\n",
    "                    \"link\": link\n",
    "                }\n",
    "                results.append(item)\n",
    "        print(results)"
   ]
  },
  {
   "cell_type": "code",
   "execution_count": 23,
   "metadata": {
    "tags": []
   },
   "outputs": [
    {
     "output_type": "stream",
     "name": "stdout",
     "text": [
      "[]\n",
      "[]\n"
     ]
    }
   ],
   "source": [
    "for index, row in df.iterrows():\n",
    "    if index < 2:\n",
    "        google_search(row['name'])\n",
    "        # requests.get()"
   ]
  },
  {
   "cell_type": "code",
   "execution_count": null,
   "metadata": {},
   "outputs": [],
   "source": []
  }
 ]
}